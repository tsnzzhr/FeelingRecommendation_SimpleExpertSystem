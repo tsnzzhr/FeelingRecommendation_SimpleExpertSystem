{
 "cells": [
  {
   "cell_type": "code",
   "execution_count": 67,
   "source": [
    "from random import choice\r\n",
    "from experta import *\r\n",
    "\r\n",
    "class Condition(Fact):\r\n",
    "    \"\"\"Info about Current Feeling Condition.\"\"\"\r\n",
    "    pass\r\n",
    "\r\n",
    "\r\n",
    "class Recommendation(KnowledgeEngine):\r\n",
    "    @Rule()\r\n",
    "    def start(self):\r\n",
    "        print(\"Here's What to Do When You Sleepy, Hungry or Tired.\")\r\n",
    "        print(\"Follow the Instructions and Let's See the Best Recommendation for you.\")\r\n",
    "        res = input('Type hungry, tired or sleepy!')\r\n",
    "        self.declare(Condition(answer=res))\r\n",
    "        \r\n",
    "\r\n",
    "    @Rule(Condition(answer='hungry'))\r\n",
    "    def hungry(self):\r\n",
    "        print(\"Seems Like You've Been Starving and Leaving Your Tummy Empty. Have Some Meal or Grab your Snacks Right Now.\")\r\n",
    "\r\n",
    "    @Rule(Condition(answer='tired'))\r\n",
    "    def tired(self):\r\n",
    "        print(\"You are Tired. Don't Be So Hard on Yourself. Take a Rest. It Won't Be Long. Don't Sacrifice Your Health.\")\r\n",
    "\r\n",
    "    @Rule(Condition(answer='sleepy'))\r\n",
    "    def sleepy(self):\r\n",
    "        print(\"Hey! Stop Working. You Are Sleepy. Rest Your Eyes a Minute or You Would Make a Catastrophic Activity.\")\r\n",
    "\r\n",
    "    @Rule(NOT(Condition(answer= L('tired') | L('sleepy') | L('hungry'))))\r\n",
    "    def not_found(self):\r\n",
    "        print(\"Sorry, We Don't Provide Recommendation For it.\")    \r\n",
    "    "
   ],
   "outputs": [],
   "metadata": {}
  },
  {
   "cell_type": "code",
   "execution_count": 69,
   "source": [
    "engine = Recommendation()\r\n",
    "engine.reset()\r\n",
    "engine.run()\r\n"
   ],
   "outputs": [
    {
     "output_type": "stream",
     "name": "stdout",
     "text": [
      "Here's What to Do When You Sleepy, Hungry or Tired.\n",
      "Follow the Instructions and Let's See the Best Recommendation for you.\n",
      "Seems Like You've Been Starving and Leaving Your Tummy Empty. Have Some Meal or Grab your Snacks Right Now.\n"
     ]
    }
   ],
   "metadata": {}
  }
 ],
 "metadata": {
  "orig_nbformat": 4,
  "language_info": {
   "name": "python",
   "version": "3.8.3",
   "mimetype": "text/x-python",
   "codemirror_mode": {
    "name": "ipython",
    "version": 3
   },
   "pygments_lexer": "ipython3",
   "nbconvert_exporter": "python",
   "file_extension": ".py"
  },
  "kernelspec": {
   "name": "python3",
   "display_name": "Python 3.8.3 32-bit"
  },
  "interpreter": {
   "hash": "bff10f7225b9c0f89b82104f418d2b1700aaf21ea06e14893e29e6a83ce8cdae"
  }
 },
 "nbformat": 4,
 "nbformat_minor": 2
}